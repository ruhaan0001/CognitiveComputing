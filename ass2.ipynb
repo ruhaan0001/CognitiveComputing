{
  "cells": [
    {
      "cell_type": "markdown",
      "metadata": {
        "id": "view-in-github",
        "colab_type": "text"
      },
      "source": [
        "<a href=\"https://colab.research.google.com/github/ruhaan0001/CognitiveComputing/blob/main/ass2.ipynb\" target=\"_parent\"><img src=\"https://colab.research.google.com/assets/colab-badge.svg\" alt=\"Open In Colab\"/></a>"
      ]
    },
    {
      "cell_type": "markdown",
      "id": "340cd77f-3e30-40c1-bf25-e46ab10e0da6",
      "metadata": {
        "id": "340cd77f-3e30-40c1-bf25-e46ab10e0da6"
      },
      "source": [
        "Create a List L that is defined as= [10, 20, 30, 40, 50, 60, 70, 80]."
      ]
    },
    {
      "cell_type": "markdown",
      "id": "cb4506e0-32bd-44fd-a8ca-9b0634923a6d",
      "metadata": {
        "id": "cb4506e0-32bd-44fd-a8ca-9b0634923a6d"
      },
      "source": [
        "i. WAP to add 200 and 300 to L."
      ]
    },
    {
      "cell_type": "code",
      "execution_count": null,
      "id": "fc1f7f9d-7359-45bd-8d46-da8637484cab",
      "metadata": {
        "id": "fc1f7f9d-7359-45bd-8d46-da8637484cab",
        "outputId": "8636a275-e95e-43f4-98bb-4a8df64506bb"
      },
      "outputs": [
        {
          "name": "stdout",
          "output_type": "stream",
          "text": [
            "[10, 20, 30, 40, 50, 60, 70, 80, 200, 300]\n"
          ]
        }
      ],
      "source": [
        "L=[10,20,30,40,50,60,70,80]\n",
        "L.append(200)\n",
        "L.append(300)\n",
        "print(L)"
      ]
    },
    {
      "cell_type": "markdown",
      "id": "1fc43613-333f-4f36-9379-c9958af9932b",
      "metadata": {
        "id": "1fc43613-333f-4f36-9379-c9958af9932b"
      },
      "source": [
        "ii. WAP to remove 10 and 30 from L."
      ]
    },
    {
      "cell_type": "code",
      "execution_count": null,
      "id": "33d1b295-9c03-4157-bf1d-fca4bf775c5f",
      "metadata": {
        "id": "33d1b295-9c03-4157-bf1d-fca4bf775c5f",
        "outputId": "0e852d2a-d6ee-4e8e-9bec-926d013ec5a9"
      },
      "outputs": [
        {
          "name": "stdout",
          "output_type": "stream",
          "text": [
            "[20, 40, 50, 60, 70, 80, 200, 300]\n"
          ]
        }
      ],
      "source": [
        "L.remove(10)\n",
        "L.remove(30)\n",
        "print(L)"
      ]
    },
    {
      "cell_type": "markdown",
      "id": "9f9dbcca-962e-4d1d-a927-ca60b4983292",
      "metadata": {
        "id": "9f9dbcca-962e-4d1d-a927-ca60b4983292"
      },
      "source": [
        "iii. WAP to sort L in ascending order."
      ]
    },
    {
      "cell_type": "code",
      "execution_count": null,
      "id": "6eddd7bb-2a5d-4a2c-a735-f82350b8f10f",
      "metadata": {
        "id": "6eddd7bb-2a5d-4a2c-a735-f82350b8f10f",
        "outputId": "c36f5769-bb16-4363-be55-e2ef14c1b045"
      },
      "outputs": [
        {
          "name": "stdout",
          "output_type": "stream",
          "text": [
            "[20, 40, 50, 60, 70, 80, 200, 300]\n"
          ]
        }
      ],
      "source": [
        "L.sort()\n",
        "print(L)"
      ]
    },
    {
      "cell_type": "markdown",
      "id": "afeb9f03-683b-4027-ba03-a8003fb4e970",
      "metadata": {
        "id": "afeb9f03-683b-4027-ba03-a8003fb4e970"
      },
      "source": [
        "iv. WAP to sort L in descending order."
      ]
    },
    {
      "cell_type": "code",
      "execution_count": null,
      "id": "7533a424-671b-40c4-812b-ccec7331a7be",
      "metadata": {
        "id": "7533a424-671b-40c4-812b-ccec7331a7be",
        "outputId": "45cc8637-8af8-46a3-a59b-e0366c9fb110"
      },
      "outputs": [
        {
          "name": "stdout",
          "output_type": "stream",
          "text": [
            "[300, 200, 80, 70, 60, 50, 40, 20]\n"
          ]
        }
      ],
      "source": [
        "L.sort(reverse=True)\n",
        "print(L)"
      ]
    },
    {
      "cell_type": "markdown",
      "id": "dc06c4ff-3e1e-49c8-b61f-25b6a885cbff",
      "metadata": {
        "id": "dc06c4ff-3e1e-49c8-b61f-25b6a885cbff"
      },
      "source": [
        "Create a tuple of marks scored as scores = (45, 89.5, 76, 45.4, 89, 92, 58, 45) and\n",
        "perform the following operations using tuple functions:"
      ]
    },
    {
      "cell_type": "markdown",
      "id": "57be18bb-ff64-4b72-b585-a7273f7e651a",
      "metadata": {
        "id": "57be18bb-ff64-4b72-b585-a7273f7e651a"
      },
      "source": [
        "i. Identify the highest score and its index in the tuple."
      ]
    },
    {
      "cell_type": "code",
      "execution_count": null,
      "id": "c965c75d-72ed-4680-a318-d58fefba9e45",
      "metadata": {
        "id": "c965c75d-72ed-4680-a318-d58fefba9e45",
        "outputId": "3bb26152-d633-463c-e3c1-575115d3899d"
      },
      "outputs": [
        {
          "name": "stdout",
          "output_type": "stream",
          "text": [
            "92\n"
          ]
        },
        {
          "data": {
            "text/plain": [
              "5"
            ]
          },
          "execution_count": 17,
          "metadata": {},
          "output_type": "execute_result"
        }
      ],
      "source": [
        "T=(45,89.5,76,45.4,89,92,58,45)\n",
        "x=max(T)\n",
        "print(x)\n",
        "T.index(x)"
      ]
    },
    {
      "cell_type": "markdown",
      "id": "b64a218d-fa11-4648-bfc5-0bb4b1f3de4a",
      "metadata": {
        "id": "b64a218d-fa11-4648-bfc5-0bb4b1f3de4a"
      },
      "source": [
        "ii. Find the lowest score and count how many times it appears."
      ]
    },
    {
      "cell_type": "code",
      "execution_count": null,
      "id": "c8935935-bb81-4c03-9b62-26b052bbcd1b",
      "metadata": {
        "id": "c8935935-bb81-4c03-9b62-26b052bbcd1b"
      },
      "outputs": [],
      "source": [
        "y=min(T)\n",
        "print(y)\n",
        "print(T.count(y))"
      ]
    },
    {
      "cell_type": "markdown",
      "id": "4ef96e2b-8603-4668-bd13-497b78051268",
      "metadata": {
        "id": "4ef96e2b-8603-4668-bd13-497b78051268"
      },
      "source": [
        "iii. Reverse the tuple and return it as a list."
      ]
    },
    {
      "cell_type": "code",
      "execution_count": null,
      "id": "63ec5c6d-4991-4e5a-9ffa-a900195519ca",
      "metadata": {
        "id": "63ec5c6d-4991-4e5a-9ffa-a900195519ca",
        "outputId": "fe114eb2-72f6-4a8f-de06-8e15033d2121"
      },
      "outputs": [
        {
          "data": {
            "text/plain": [
              "[45, 58, 92, 89, 45.4, 76, 89.5, 45]"
            ]
          },
          "execution_count": 31,
          "metadata": {},
          "output_type": "execute_result"
        }
      ],
      "source": [
        "nT=T[::-1]\n",
        "list(nT)"
      ]
    },
    {
      "cell_type": "markdown",
      "id": "3b35c101-ab5c-4693-a0e4-9e3bbd858cb5",
      "metadata": {
        "id": "3b35c101-ab5c-4693-a0e4-9e3bbd858cb5"
      },
      "source": [
        "iv. Check if a specific score ‘76’ (input by the user) is present in the tuple and\n",
        "print its first occurrence index, or a message saying it’s not present."
      ]
    },
    {
      "cell_type": "code",
      "execution_count": null,
      "id": "ecade3a6-5b3b-41d1-8ed4-95afc629ac27",
      "metadata": {
        "id": "ecade3a6-5b3b-41d1-8ed4-95afc629ac27",
        "outputId": "db5f6011-9dd1-46a0-c9e4-1909d3cb8b03"
      },
      "outputs": [
        {
          "name": "stdout",
          "output_type": "stream",
          "text": [
            "2\n"
          ]
        }
      ],
      "source": [
        "if 76 in T:\n",
        "    print(T.index(76))\n",
        "else:\n",
        "    print(\"It’s not present\")"
      ]
    },
    {
      "cell_type": "markdown",
      "id": "531ee94c-8bd8-4c96-aea8-5f4198e9700d",
      "metadata": {
        "id": "531ee94c-8bd8-4c96-aea8-5f4198e9700d"
      },
      "source": [
        "3. WAP to create a list of 100 random numbers between 100 and 900. Count and print\n",
        "the:"
      ]
    },
    {
      "cell_type": "markdown",
      "id": "3b8d3e2f-9e8f-4cb6-8ed2-a0ee15dcbc13",
      "metadata": {
        "id": "3b8d3e2f-9e8f-4cb6-8ed2-a0ee15dcbc13"
      },
      "source": [
        "i. All odd numbers"
      ]
    },
    {
      "cell_type": "markdown",
      "id": "37c4881d-a33a-4077-8ebd-f0d7356d93d9",
      "metadata": {
        "id": "37c4881d-a33a-4077-8ebd-f0d7356d93d9"
      },
      "source": [
        "ii. All even numbers"
      ]
    },
    {
      "cell_type": "markdown",
      "id": "9dcb6cf3-420e-43e2-928c-2cf8dfe3d9a4",
      "metadata": {
        "id": "9dcb6cf3-420e-43e2-928c-2cf8dfe3d9a4"
      },
      "source": [
        "iii. All prime numbers"
      ]
    },
    {
      "cell_type": "code",
      "execution_count": null,
      "id": "41ee69f1-3092-4040-b1f5-b10711a06d34",
      "metadata": {
        "id": "41ee69f1-3092-4040-b1f5-b10711a06d34",
        "outputId": "d47f3919-e401-4e97-81a0-10d716bafc93"
      },
      "outputs": [
        {
          "name": "stdout",
          "output_type": "stream",
          "text": [
            "[431, 357, 775, 141, 280, 279, 851, 446, 213, 256, 323, 305, 136, 130, 844, 553, 414, 471, 476, 774, 317, 264, 765, 805, 494, 787, 238, 555, 510, 343, 503, 326, 629, 430, 382, 495, 753, 330, 564, 246, 706, 780, 336, 345, 507, 409, 743, 819, 103, 535, 820, 435, 459, 221, 244, 531, 702, 651, 110, 650, 878, 642, 500, 222, 148, 188, 838, 137, 192, 754, 766, 786, 321, 818, 218, 551, 470, 341, 559, 448, 701, 122, 200, 748, 111, 245, 400, 490, 492, 297, 867, 894, 234, 472, 261, 648, 463, 730, 890, 139]\n",
            "\n",
            "\n",
            "[431, 357, 775, 141, 279, 851, 213, 323, 305, 553, 471, 317, 765, 805, 787, 555, 343, 503, 629, 495, 753, 345, 507, 409, 743, 819, 103, 535, 435, 459, 221, 531, 651, 137, 321, 551, 341, 559, 701, 111, 245, 297, 867, 261, 463, 139]\n",
            "\n",
            "\n",
            "[280, 446, 256, 136, 130, 844, 414, 476, 774, 264, 494, 238, 510, 326, 430, 382, 330, 564, 246, 706, 780, 336, 820, 244, 702, 110, 650, 878, 642, 500, 222, 148, 188, 838, 192, 754, 766, 786, 818, 218, 470, 448, 122, 200, 748, 400, 490, 492, 894, 234, 472, 648, 730, 890]\n",
            "\n",
            "\n",
            "[431, 317, 787, 503, 409, 743, 103, 137, 701, 463, 139]\n"
          ]
        }
      ],
      "source": [
        "import random as r\n",
        "import sympy as s\n",
        "L=r.sample(range(100,900),100)\n",
        "print(L)\n",
        "l1=[x for x in L if not x%2==0]\n",
        "l2=[x for x in L if x%2==0]\n",
        "l3=[x for x in L if s.isprime(x)]\n",
        "print(\"\\n\")\n",
        "print(l1)\n",
        "print(\"\\n\")\n",
        "print(l2)\n",
        "print(\"\\n\")\n",
        "print(l3)"
      ]
    },
    {
      "cell_type": "markdown",
      "id": "3ebc9bfb-a40b-47ff-a55c-eca293e0b60f",
      "metadata": {
        "id": "3ebc9bfb-a40b-47ff-a55c-eca293e0b60f"
      },
      "source": [
        "Consider the following two sets, A and B, representing scores of two teams in multiple\n",
        "matches. A = {34, 56, 78, 90} and B = {78, 45, 90, 23}\n",
        "WAP to perform the following operations using set functions:"
      ]
    },
    {
      "cell_type": "markdown",
      "id": "8cb80cb6-ddef-4ee9-a92b-039175a4245f",
      "metadata": {
        "id": "8cb80cb6-ddef-4ee9-a92b-039175a4245f"
      },
      "source": [
        "i. Find the unique scores achieved by both teams (union of sets)."
      ]
    },
    {
      "cell_type": "markdown",
      "id": "833d3978-87f2-4a71-9132-57a8442df42d",
      "metadata": {
        "id": "833d3978-87f2-4a71-9132-57a8442df42d"
      },
      "source": [
        "ii. Identify the scores that are common to both teams (intersection of sets)."
      ]
    },
    {
      "cell_type": "markdown",
      "id": "f16e0793-9b3a-4719-bdd4-1dc77156549d",
      "metadata": {
        "id": "f16e0793-9b3a-4719-bdd4-1dc77156549d"
      },
      "source": [
        "iii. Find the scores that are exclusive to each team (symmetric difference)."
      ]
    },
    {
      "cell_type": "markdown",
      "id": "b9ec4e0a-08ff-4086-be1d-9f97804c75e2",
      "metadata": {
        "id": "b9ec4e0a-08ff-4086-be1d-9f97804c75e2"
      },
      "source": [
        "iv. Check if the scores of team A are a subset of team B, and if team B's scores are\n",
        "a superset of team A."
      ]
    },
    {
      "cell_type": "markdown",
      "id": "f2c796b9-b6ff-4ac0-a97b-72c2aa29f458",
      "metadata": {
        "id": "f2c796b9-b6ff-4ac0-a97b-72c2aa29f458"
      },
      "source": [
        "v. Remove a specific score X (input by the user) from set A if it exists. If not, print\n",
        "a message saying it is not present."
      ]
    },
    {
      "cell_type": "code",
      "execution_count": null,
      "id": "ab665ee9-82dc-4b4e-9f55-e9e32fa7ceab",
      "metadata": {
        "id": "ab665ee9-82dc-4b4e-9f55-e9e32fa7ceab",
        "outputId": "b85245d5-5304-4b24-9508-7769e209f33c"
      },
      "outputs": [
        {
          "name": "stdout",
          "output_type": "stream",
          "text": [
            "{34, 45, 78, 23, 56, 90}\n",
            "\n",
            "\n",
            "{90, 78}\n",
            "\n",
            "\n",
            "{34, 45, 23, 56}\n",
            "\n",
            "\n"
          ]
        },
        {
          "name": "stdin",
          "output_type": "stream",
          "text": [
            "Enter score to check 44\n"
          ]
        },
        {
          "name": "stdout",
          "output_type": "stream",
          "text": [
            "44.0  is not present in A\n"
          ]
        }
      ],
      "source": [
        "A = {34, 56, 78, 90}\n",
        "B = {78, 45, 90, 23}\n",
        "print(A.union(B))\n",
        "print(\"\\n\")\n",
        "print(A.intersection(B))\n",
        "print(\"\\n\")\n",
        "print(A.symmetric_difference(B))\n",
        "print(\"\\n\")\n",
        "if A.issubset(B):\n",
        "    print(\"A is subset of B\")\n",
        "if B.issuperset(A):\n",
        "    print(\"B is superset of A\")\n",
        "n=float(input('Enter score to check'))\n",
        "if n in A:\n",
        "    A.remove(n)\n",
        "    print(A)\n",
        "else:\n",
        "    print(n,' is not present in A')"
      ]
    },
    {
      "cell_type": "markdown",
      "id": "f9213b71-bfde-43db-85c9-3472dc3958e1",
      "metadata": {
        "id": "f9213b71-bfde-43db-85c9-3472dc3958e1"
      },
      "source": [
        "5. Write a program to rename a key city to a location in the following dictionary."
      ]
    },
    {
      "cell_type": "code",
      "execution_count": null,
      "id": "00d6be3c-b7d4-4ea0-8af7-3792913155c8",
      "metadata": {
        "id": "00d6be3c-b7d4-4ea0-8af7-3792913155c8",
        "outputId": "b1e773e8-6243-460a-ab4d-9d79893c7dc9"
      },
      "outputs": [
        {
          "name": "stdout",
          "output_type": "stream",
          "text": [
            "{'name': 'Kelly', 'age': 25, 'salary': 8000, 'location': 'New york'}\n"
          ]
        }
      ],
      "source": [
        "D={\n",
        "    \"name\": \"Kelly\",\n",
        "    \"age\":25,\n",
        "    \"salary\": 8000,\n",
        "    \"city\": \"New york\"\n",
        "}\n",
        "D['location']=D['city']\n",
        "del D['city']\n",
        "print(D)"
      ]
    },
    {
      "cell_type": "code",
      "execution_count": null,
      "id": "14216206-65d3-4bc7-8e06-fc9063b9ffa2",
      "metadata": {
        "id": "14216206-65d3-4bc7-8e06-fc9063b9ffa2"
      },
      "outputs": [],
      "source": []
    }
  ],
  "metadata": {
    "kernelspec": {
      "display_name": "Python [conda env:base] *",
      "language": "python",
      "name": "conda-base-py"
    },
    "language_info": {
      "codemirror_mode": {
        "name": "ipython",
        "version": 3
      },
      "file_extension": ".py",
      "mimetype": "text/x-python",
      "name": "python",
      "nbconvert_exporter": "python",
      "pygments_lexer": "ipython3",
      "version": "3.12.7"
    },
    "colab": {
      "provenance": [],
      "include_colab_link": true
    }
  },
  "nbformat": 4,
  "nbformat_minor": 5
}