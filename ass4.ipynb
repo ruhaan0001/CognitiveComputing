{
  "nbformat": 4,
  "nbformat_minor": 0,
  "metadata": {
    "colab": {
      "provenance": [],
      "authorship_tag": "ABX9TyNORkk0xy3A6W3ha417CoVy",
      "include_colab_link": true
    },
    "kernelspec": {
      "name": "python3",
      "display_name": "Python 3"
    },
    "language_info": {
      "name": "python"
    }
  },
  "cells": [
    {
      "cell_type": "markdown",
      "metadata": {
        "id": "view-in-github",
        "colab_type": "text"
      },
      "source": [
        "<a href=\"https://colab.research.google.com/github/ruhaan0001/CognitiveComputing/blob/main/ass4.ipynb\" target=\"_parent\"><img src=\"https://colab.research.google.com/assets/colab-badge.svg\" alt=\"Open In Colab\"/></a>"
      ]
    },
    {
      "cell_type": "markdown",
      "source": [
        "Q.1 Write a program to create a NumPy 1D-array with 5 elements and perform basic\n",
        "operations like:\n",
        "a) Addition of 2 in all the element"
      ],
      "metadata": {
        "id": "5HRI49l4KMyG"
      }
    },
    {
      "cell_type": "code",
      "source": [
        "import numpy as np\n",
        "a=np.array([1,2,3,4,5])\n",
        "print(a+2)"
      ],
      "metadata": {
        "colab": {
          "base_uri": "https://localhost:8080/"
        },
        "id": "79poInHXKOdC",
        "outputId": "57c48483-9f43-46e8-e6c2-155f7ad510d6"
      },
      "execution_count": 1,
      "outputs": [
        {
          "output_type": "stream",
          "name": "stdout",
          "text": [
            "[3 4 5 6 7]\n"
          ]
        }
      ]
    },
    {
      "cell_type": "markdown",
      "source": [
        "b) Multiply 3 with all the elements"
      ],
      "metadata": {
        "id": "sj4iq-vQKYGU"
      }
    },
    {
      "cell_type": "code",
      "source": [
        "print(a*3)"
      ],
      "metadata": {
        "colab": {
          "base_uri": "https://localhost:8080/"
        },
        "id": "whfBoUQGKaoc",
        "outputId": "1b0e587f-7514-421a-ec97-8640365ef591"
      },
      "execution_count": 2,
      "outputs": [
        {
          "output_type": "stream",
          "name": "stdout",
          "text": [
            "[ 3  6  9 12 15]\n"
          ]
        }
      ]
    },
    {
      "cell_type": "markdown",
      "source": [
        "c) Divide every element by 2"
      ],
      "metadata": {
        "id": "qb69ePfYKfdk"
      }
    },
    {
      "cell_type": "code",
      "source": [
        "print(a/2)"
      ],
      "metadata": {
        "colab": {
          "base_uri": "https://localhost:8080/"
        },
        "id": "WaQ3zMMVKiCE",
        "outputId": "611be41f-e0df-4de5-b50d-b54b712f2242"
      },
      "execution_count": 3,
      "outputs": [
        {
          "output_type": "stream",
          "name": "stdout",
          "text": [
            "[0.5 1.  1.5 2.  2.5]\n"
          ]
        }
      ]
    },
    {
      "cell_type": "markdown",
      "source": [
        "Q.2 Questions on Basic NumPy Array:\n",
        "a) Reverse the NumPy array: arr = np.array([1, 2, 3, 6, 4, 5])"
      ],
      "metadata": {
        "id": "7Zpea_CEKqn9"
      }
    },
    {
      "cell_type": "code",
      "source": [
        "b=np.array([1,2,3,6,4,5])\n",
        "r_array=b[::-1]\n",
        "print(type(r_array))"
      ],
      "metadata": {
        "colab": {
          "base_uri": "https://localhost:8080/"
        },
        "id": "legjrV9CKrgs",
        "outputId": "71c5a262-3c8d-4bb3-bf37-477c4fe19f7b"
      },
      "execution_count": 4,
      "outputs": [
        {
          "output_type": "stream",
          "name": "stdout",
          "text": [
            "<class 'numpy.ndarray'>\n"
          ]
        }
      ]
    },
    {
      "cell_type": "code",
      "source": [
        "r_array=np.flip(b)\n",
        "r_array"
      ],
      "metadata": {
        "colab": {
          "base_uri": "https://localhost:8080/"
        },
        "id": "KuLw4sCfK3mU",
        "outputId": "64f14615-cf42-482b-ff5f-c94b70d3ed27"
      },
      "execution_count": 5,
      "outputs": [
        {
          "output_type": "execute_result",
          "data": {
            "text/plain": [
              "array([5, 4, 6, 3, 2, 1])"
            ]
          },
          "metadata": {},
          "execution_count": 5
        }
      ]
    },
    {
      "cell_type": "markdown",
      "source": [
        "b) Find the most frequent value and their indice(s) in the following arrays:\n",
        "i. x = np.array([1,2,3,4,5,1,2,1,1,1])"
      ],
      "metadata": {
        "id": "vXZLodHKK6pD"
      }
    },
    {
      "cell_type": "code",
      "source": [
        "x=np.array([1,2,3,4,5,1,2,1,1,1])\n",
        "y=np.bincount(x)\n",
        "print(y)\n",
        "m=max(y)\n",
        "print(m)\n",
        "for i in range(len(y)):\n",
        "    if(m==y[i]):\n",
        "        print(i)"
      ],
      "metadata": {
        "colab": {
          "base_uri": "https://localhost:8080/"
        },
        "id": "2kyRyl7eLCSI",
        "outputId": "04f6b6b2-a764-449f-d5d2-f73e649e3a37"
      },
      "execution_count": 6,
      "outputs": [
        {
          "output_type": "stream",
          "name": "stdout",
          "text": [
            "[0 5 2 1 1 1]\n",
            "5\n",
            "1\n"
          ]
        }
      ]
    },
    {
      "cell_type": "markdown",
      "source": [
        "ii. y = np.array([1, 1, 1, 2, 3, 4, 2, 4, 3, 3, ])"
      ],
      "metadata": {
        "id": "-6sE9HDYLNjL"
      }
    },
    {
      "cell_type": "code",
      "source": [
        "import numpy as np\n",
        "y=np.array([1,1,1,2,3,4,2,4,3,3])\n",
        "unique,counts=np.unique(y,return_counts=True)\n",
        "most_frequent_value=unique[np.argmax(counts)]\n",
        "indices=np.where(y==most_frequent_value)[0]\n",
        "print(\"Most Frequent Value:\",most_frequent_value)\n",
        "print(\"Indices:\",indices)"
      ],
      "metadata": {
        "colab": {
          "base_uri": "https://localhost:8080/"
        },
        "id": "ohLNzubHLPns",
        "outputId": "66ab320e-5600-4caf-e498-1f5cd22e77af"
      },
      "execution_count": 7,
      "outputs": [
        {
          "output_type": "stream",
          "name": "stdout",
          "text": [
            "Most Frequent Value: 1\n",
            "Indices: [0 1 2]\n"
          ]
        }
      ]
    },
    {
      "cell_type": "markdown",
      "source": [
        "Q.3 For the given 2-D array arr=np.array([10, 20, 30], [40, 50, 60], [70, 80, 90]), access\n",
        "elements using row and column indices as follows:\n",
        "a) Access 1st row, 2nd column"
      ],
      "metadata": {
        "id": "PFowbosELZlc"
      }
    },
    {
      "cell_type": "code",
      "source": [
        "arr=np.array([[10,20,30],[40,50,60],[70,80,90]])\n",
        "print(arr[0][1])\n",
        "print(arr[0])\n",
        "print(arr[:,1])\n",
        "print(arr[:,0])\n",
        "print(arr[2])"
      ],
      "metadata": {
        "colab": {
          "base_uri": "https://localhost:8080/"
        },
        "id": "sZ5G-4ScLfws",
        "outputId": "26333074-2db8-40a4-de7b-4dc1d1ba002f"
      },
      "execution_count": 8,
      "outputs": [
        {
          "output_type": "stream",
          "name": "stdout",
          "text": [
            "20\n",
            "[10 20 30]\n",
            "[20 50 80]\n",
            "[10 40 70]\n",
            "[70 80 90]\n"
          ]
        }
      ]
    },
    {
      "cell_type": "markdown",
      "source": [
        "b) Access 3rd row, 1st column"
      ],
      "metadata": {
        "id": "xkeoQ3QuLt3k"
      }
    },
    {
      "cell_type": "code",
      "source": [
        "print(arr[2][0])"
      ],
      "metadata": {
        "colab": {
          "base_uri": "https://localhost:8080/"
        },
        "id": "Zjin1fjeLvve",
        "outputId": "e955b2f7-0de6-4500-f864-8bae40c4b791"
      },
      "execution_count": 9,
      "outputs": [
        {
          "output_type": "stream",
          "name": "stdout",
          "text": [
            "70\n"
          ]
        }
      ]
    },
    {
      "cell_type": "markdown",
      "source": [
        "Q.4 Write program to create an 1-D NumPy array named <<Your Name>> with evenly\n",
        "spaced 25 numbers from 10 to 100 using linspace(). Print the dimensions of the array,\n",
        "shape, total elements, the data type of each element and total number of bytes consumed\n",
        "by the array. Find the transpose of this array using reshape() attribute. Can we do the same\n",
        "with T attribute?"
      ],
      "metadata": {
        "id": "Fa3XSPG5L_Vk"
      }
    },
    {
      "cell_type": "code",
      "source": [
        "Ruhaan=np.linspace(10,100,25)\n",
        "print(Ruhaan)\n",
        "print(np.ndim(Ruhaan))\n",
        "print(np.shape(Ruhaan))\n",
        "print(len(Ruhaan))\n",
        "print(Ruhaan.dtype)\n",
        "print(Ruhaan.nbytes)\n",
        "print(Ruhaan.reshape(1,25))\n",
        "print(Ruhaan.T)\n",
        "print(np.shape(Ruhaan))"
      ],
      "metadata": {
        "colab": {
          "base_uri": "https://localhost:8080/"
        },
        "id": "VjpEb1YLMARN",
        "outputId": "a6e2bbbd-ad0a-4f6d-fc0b-d32fb62d1a5b"
      },
      "execution_count": 10,
      "outputs": [
        {
          "output_type": "stream",
          "name": "stdout",
          "text": [
            "[ 10.    13.75  17.5   21.25  25.    28.75  32.5   36.25  40.    43.75\n",
            "  47.5   51.25  55.    58.75  62.5   66.25  70.    73.75  77.5   81.25\n",
            "  85.    88.75  92.5   96.25 100.  ]\n",
            "1\n",
            "(25,)\n",
            "25\n",
            "float64\n",
            "200\n",
            "[[ 10.    13.75  17.5   21.25  25.    28.75  32.5   36.25  40.    43.75\n",
            "   47.5   51.25  55.    58.75  62.5   66.25  70.    73.75  77.5   81.25\n",
            "   85.    88.75  92.5   96.25 100.  ]]\n",
            "[ 10.    13.75  17.5   21.25  25.    28.75  32.5   36.25  40.    43.75\n",
            "  47.5   51.25  55.    58.75  62.5   66.25  70.    73.75  77.5   81.25\n",
            "  85.    88.75  92.5   96.25 100.  ]\n",
            "(25,)\n"
          ]
        }
      ]
    },
    {
      "cell_type": "markdown",
      "source": [
        "Q5. Create a 2-D Array of three rows and four columns, named ucs420_<your_name>>\n",
        "with following values – 10, 20, 30, 40, 50, 60, 70, 80, 90, 15, 20, 35. Compute the mean,\n",
        "median, max, min, unique elements. Reshape the array to four rows and three columns and\n",
        "name it as reshaped_ ucs420_<your_name>>. Resize the array to two rows and three\n",
        "columns and name it as resized_ ucs420_<your_name>>."
      ],
      "metadata": {
        "id": "KMLQ-JiEMU3Z"
      }
    },
    {
      "cell_type": "code",
      "source": [
        "ucs420_ruhaan=np.array([[10,20,30,40],[50,60,70,80],[90,15,20,35]])\n",
        "m=np.mean(ucs420_ruhaan)\n",
        "print(\"Mean:\",m)\n",
        "x=np.median(ucs420_ruhaan)\n",
        "print(\"Median:\",x)\n",
        "y=np.max(ucs420_ruhaan)\n",
        "print(\"Max:\",y)\n",
        "z=np.min(ucs420_ruhaan)\n",
        "print(\"Min:\",z)\n",
        "reshaped_ucs420_ruhaan=ucs420_ruhaan.reshape(4,3)\n",
        "print(reshaped_ucs420_ruhaan)\n",
        "resized_ucs420_ruhaan=np.resize(reshaped_ucs420_ruhaan,(2,3))\n",
        "print(resized_ucs420_ruhaan)"
      ],
      "metadata": {
        "colab": {
          "base_uri": "https://localhost:8080/"
        },
        "id": "AdLHC2FjMYf3",
        "outputId": "279ba4f9-6d5f-45e0-c248-84ba605fc53c"
      },
      "execution_count": 11,
      "outputs": [
        {
          "output_type": "stream",
          "name": "stdout",
          "text": [
            "Mean: 43.333333333333336\n",
            "Median: 37.5\n",
            "Max: 90\n",
            "Min: 10\n",
            "[[10 20 30]\n",
            " [40 50 60]\n",
            " [70 80 90]\n",
            " [15 20 35]]\n",
            "[[10 20 30]\n",
            " [40 50 60]]\n"
          ]
        }
      ]
    }
  ]
}