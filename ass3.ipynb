{
  "nbformat": 4,
  "nbformat_minor": 0,
  "metadata": {
    "colab": {
      "provenance": [],
      "authorship_tag": "ABX9TyOGd1oEg2ooARO8IH1Pm4lt",
      "include_colab_link": true
    },
    "kernelspec": {
      "name": "python3",
      "display_name": "Python 3"
    },
    "language_info": {
      "name": "python"
    }
  },
  "cells": [
    {
      "cell_type": "markdown",
      "metadata": {
        "id": "view-in-github",
        "colab_type": "text"
      },
      "source": [
        "<a href=\"https://colab.research.google.com/github/ruhaan0001/CognitiveComputing/blob/main/ass3.ipynb\" target=\"_parent\"><img src=\"https://colab.research.google.com/assets/colab-badge.svg\" alt=\"Open In Colab\"/></a>"
      ]
    },
    {
      "cell_type": "markdown",
      "source": [
        "Q.1 Create a dataset as follow in the table."
      ],
      "metadata": {
        "id": "c0fg-wc104bo"
      }
    },
    {
      "cell_type": "code",
      "execution_count": 1,
      "metadata": {
        "colab": {
          "base_uri": "https://localhost:8080/"
        },
        "id": "4gGkwJfOwoyk",
        "outputId": "1c5c46f9-439d-4708-c107-c92e360324c7"
      },
      "outputs": [
        {
          "output_type": "stream",
          "name": "stdout",
          "text": [
            "   Tid Refund Marital Status Taxable Income Cheat\n",
            "0    1    Yes         Single           125K    No\n",
            "1    2     No        Married           100K    No\n",
            "2    3     No         Single            70K    No\n",
            "3    4    Yes        Married           120K    No\n",
            "4    5     No       Divorced            95K   Yes\n",
            "5    6     No        Married            60K    No\n",
            "6    7    Yes        Divorce           220K    No\n",
            "7    8     No         Single            85K   Yes\n",
            "8    9     No        Married            75K    No\n",
            "9   10     No         Single            90K   Yes\n"
          ]
        }
      ],
      "source": [
        "import pandas as pd;\n",
        "data = {\"Tid\" : [1,2,3,4,5,6,7,8,9,10],\n",
        "        \"Refund\" : [\"Yes\", \"No\", \"No\", \"Yes\", \"No\", \"No\", \"Yes\", \"No\", \"No\", \"No\"],\n",
        "        \"Marital Status\" : [\"Single\",\"Married\",\"Single\",\"Married\",\"Divorced\",\"Married\",\"Divorce\",\"Single\",\"Married\",\"Single\"],\n",
        "        \"Taxable Income\" : [\"125K\",\"100K\",\"70K\",\"120K\",\"95K\",\"60K\",\"220K\",\"85K\",\"75K\",\"90K\"],\n",
        "        \"Cheat\" : [\"No\",\"No\",\"No\",\"No\",\"Yes\",\"No\",\"No\",\"Yes\",\"No\",\"Yes\"]\n",
        "};\n",
        "df = pd.DataFrame(data);\n",
        "print(df);"
      ]
    },
    {
      "cell_type": "markdown",
      "source": [
        "Q.2 From the above table that you have created, locate row 0, 4, 7 and 8 using DataFrame."
      ],
      "metadata": {
        "id": "RkqjXvQO1LzH"
      }
    },
    {
      "cell_type": "code",
      "source": [
        "import pandas as pd;\n",
        "data = {\"Tid\" : [1,2,3,4,5,6,7,8,9,10], \"Refund\": [\"Yes\",\"No\",\"No\",\"Yes\",\"No\",\"No\",\"Yes\",\"No\",\"No\",\"No\"],\n",
        "\"Marital Status\" : [\"Single\",\"Married\",\"Single\",\"Married\",\"Divorced\",\"Married\",\"Divorce\",\"Single\",\"Married\",\"Single\"],\n",
        "\"Taxable Income\" : [\"125K\",\"100K\",\"70K\",\"120K\",\"95K\",\"60K\",\"220K\",\"85K\",\"75K\",\"90K\"], \"Cheat\" : [\"No\",\"No\",\"No\",\"No\",\"Yes\",\"No\",\"No\",\"Yes\",\"No\",\"Yes\"]};\n",
        "df = pd.DataFrame(data);\n",
        "print(df.iloc[0]);\n",
        "print(df.iloc[4]);\n",
        "print(df.iloc[7]);\n",
        "print(df.iloc[8]);"
      ],
      "metadata": {
        "colab": {
          "base_uri": "https://localhost:8080/"
        },
        "id": "0TtDRPvf1O5X",
        "outputId": "aa4ad084-a504-45af-8d79-cd3f43075cb0"
      },
      "execution_count": 2,
      "outputs": [
        {
          "output_type": "stream",
          "name": "stdout",
          "text": [
            "Tid                    1\n",
            "Refund               Yes\n",
            "Marital Status    Single\n",
            "Taxable Income      125K\n",
            "Cheat                 No\n",
            "Name: 0, dtype: object\n",
            "Tid                      5\n",
            "Refund                  No\n",
            "Marital Status    Divorced\n",
            "Taxable Income         95K\n",
            "Cheat                  Yes\n",
            "Name: 4, dtype: object\n",
            "Tid                    8\n",
            "Refund                No\n",
            "Marital Status    Single\n",
            "Taxable Income       85K\n",
            "Cheat                Yes\n",
            "Name: 7, dtype: object\n",
            "Tid                     9\n",
            "Refund                 No\n",
            "Marital Status    Married\n",
            "Taxable Income        75K\n",
            "Cheat                  No\n",
            "Name: 8, dtype: object\n"
          ]
        }
      ]
    },
    {
      "cell_type": "markdown",
      "source": [
        "Q.3 Navigate the DataFrame and do the following task for the table created in question 1:\n",
        "1. Select row from index 3 to 7.\n",
        "2. Select row from index 4 to 8, and column 2 to 4.\n",
        "3. Select all rows with column index 1 to 3 (include index 3 during selection)."
      ],
      "metadata": {
        "id": "aEyDfKyq1dFP"
      }
    },
    {
      "cell_type": "code",
      "source": [
        "import pandas as pd;\n",
        "data = {\"Tid\" : [1,2,3,4,5,6,7,8,9,10], \"Refund\": [\"Yes\",\"No\",\"No\",\"Yes\",\"No\",\"No\",\"Yes\",\"No\",\"No\",\"No\"],\n",
        "\"Marital Status\" : [\"Single\",\"Married\",\"Single\",\"Married\",\"Divorced\",\"Married\",\"Divorce\",\"Single\",\"Married\",\"Single\"],\n",
        "\"Taxable Income\" : [\"125K\",\"100K\",\"70K\",\"120K\",\"95K\",\"60K\",\"220K\",\"85K\",\"75K\",\"90K\"], \"Cheat\" : [\"No\",\"No\",\"No\",\"No\",\"Yes\",\"No\",\"No\",\"Yes\",\"No\",\"Yes\"]};\n",
        "df = pd.DataFrame(data);\n",
        "print(df.iloc[3:8]);\n",
        "print(df.iloc[4:9,2:5]);\n",
        "print(df.iloc[:,1:4]);"
      ],
      "metadata": {
        "colab": {
          "base_uri": "https://localhost:8080/"
        },
        "id": "ag9TEqyK1qwo",
        "outputId": "cdb25b65-9935-401f-c278-a85c47a93fd7"
      },
      "execution_count": 3,
      "outputs": [
        {
          "output_type": "stream",
          "name": "stdout",
          "text": [
            "   Tid Refund Marital Status Taxable Income Cheat\n",
            "3    4    Yes        Married           120K    No\n",
            "4    5     No       Divorced            95K   Yes\n",
            "5    6     No        Married            60K    No\n",
            "6    7    Yes        Divorce           220K    No\n",
            "7    8     No         Single            85K   Yes\n",
            "  Marital Status Taxable Income Cheat\n",
            "4       Divorced            95K   Yes\n",
            "5        Married            60K    No\n",
            "6        Divorce           220K    No\n",
            "7         Single            85K   Yes\n",
            "8        Married            75K    No\n",
            "  Refund Marital Status Taxable Income\n",
            "0    Yes         Single           125K\n",
            "1     No        Married           100K\n",
            "2     No         Single            70K\n",
            "3    Yes        Married           120K\n",
            "4     No       Divorced            95K\n",
            "5     No        Married            60K\n",
            "6    Yes        Divorce           220K\n",
            "7     No         Single            85K\n",
            "8     No        Married            75K\n",
            "9     No         Single            90K\n"
          ]
        }
      ]
    },
    {
      "cell_type": "markdown",
      "source": [
        "Q.4 Read a csv file and display its first five rows."
      ],
      "metadata": {
        "id": "UhR9LlIT14kH"
      }
    },
    {
      "cell_type": "code",
      "source": [
        "import pandas as pd;\n",
        "df = pd.read_csv('C:/Users/Ruhaan/Downloads/archive/Iris.csv')\n",
        "print(df);"
      ],
      "metadata": {
        "collapsed": true,
        "id": "CfwueNZ617oY"
      },
      "execution_count": null,
      "outputs": []
    },
    {
      "cell_type": "markdown",
      "source": [
        "Q.5 From the csv file (uploaded in the Q.4) delete row 4, and delete column 3. Display the\n",
        "result."
      ],
      "metadata": {
        "id": "4UDWz-gc5CEG"
      }
    },
    {
      "cell_type": "code",
      "source": [
        "import pandas as pd;\n",
        "df = pd.read_csv('C:/Users/Ruhaan/Downloads/archive/Iris.csv');\n",
        "df.drop(3,axis = 0, inplace = True);\n",
        "df.drop(df.columns[2], axis = 1, inplace = True);\n",
        "print(df);"
      ],
      "metadata": {
        "id": "PYtdA3jc5EjJ"
      },
      "execution_count": null,
      "outputs": []
    },
    {
      "cell_type": "markdown",
      "source": [
        "Q.6 Create a sample dataset (employees.csv) containing information about employees in\n",
        "a company.\n",
        "WAP to determine the following using dataset in Q6:\n",
        "a) Shape (number of rows and columns) of the DataFrame.\n",
        "b) Summary of the DataFrame that includes the data types and non-null counts for\n",
        "each column.\n",
        "c) Generate descriptive statistics.\n",
        "d) Display the first 5 rows and last 3 rows of the dataset.\n",
        "e) Calculate the following statistics from the dataset:\n",
        "i. The average salary of employees.\n",
        "ii. The total bonus paid to all employees.\n",
        "iii. The youngest employee's age.\n",
        "iv. The highest performance rating.\n",
        "\n",
        "f) Sort the DataFrame by the Salary column in descending order.\n",
        "g) Add a new column that categorizes employees based on their performance rating:\n",
        "\n",
        "i. Excellent for ratings >= 4.5\n",
        "ii. Good for ratings >= 4.0 but < 4.5\n",
        "iii. Average for ratings < 4.0\n",
        "h) Identify missing values in the DataFrame.\n",
        "i) Rename the Employee_ID column to ID.\n",
        "j) Find all employees who:\n",
        "\n",
        "i. Have more than 5 years of experience.\n",
        "ii. Belong to the IT department.\n",
        "\n",
        "k) Modify the dataset by adding a new column, Tax, which deducts 10% of the\n",
        "Salary.\n",
        "l) Save the modified DataFrame (with added columns) to a new CSV file."
      ],
      "metadata": {
        "id": "mSDdb0sJ5dBt"
      }
    },
    {
      "cell_type": "code",
      "source": [
        "import pandas as pd;\n",
        "data = {\"Employee_ID\" : [101,102,103,104,105], \"Name\" : [\"Alice\",\"Bob\",\"Charlie\",\"Diana\",\"Edward\"],\n",
        "        \"Department\" : [\"HR\",\"IT\",\"IT\",\"Marketing\",\"Sales\"], \"Age\" : [29,34,41,28,38],\n",
        "        \"Salary\" : [50000,70000,65000,55000,60000],\"Year_Of_Experience\" : [4,8,10,3,12],\n",
        "        \"Joining_Date\" : [\"2020-03-15\",\"2017-07-19\",\"2013-06-01\",\"2021-02-10\",\"2010-11-25\"],\n",
        "        \"Gender\" : [\"Female\",\"Male\",\"Male\",\"Female\",\"Male\"], \"Bonus\" : [5000,7000,6000,4500,5000],\n",
        "        \"Rating\" : [4.5,4.0,3.8,4.7,3.5]\n",
        "};\n",
        "df = pd.DataFrame(data);\n",
        "print(df.shape);\n",
        "print(df.info());\n",
        "print(df.describe());\n",
        "print(df.head());\n",
        "print(df.tail(3));\n",
        "print(df['Salary'].mean());\n",
        "print(df['Bonus'].sum());\n",
        "print(df['Age'].min());\n",
        "print(df['Rating'].max());\n",
        "print(df.sort_values('Salary',ascending = False));\n",
        "A = [4.5,4.0,3.8,4.7,3.5];\n",
        "B = [];\n",
        "for i in A:\n",
        "    if(i >= 4.5):\n",
        "        B.append(\"Excellent\");\n",
        "    elif(i >= 4.0 and i < 4.5):\n",
        "        B.append('Good');\n",
        "    else:\n",
        "        B.append('Average');\n",
        "df['Performance'] = B;\n",
        "print(df);\n",
        "df.rename(columns={'Employee_ID':'ID'},inplace = True);\n",
        "experience = df[(df['Year_Of_Experience'] > 5)];\n",
        "department = df[(df['Department'] == 'IT')];\n",
        "print(experience);\n",
        "print(department);\n",
        "df['Tax'] = df['Salary'] * 0.1;\n",
        "print(df);\n",
        "df.to_csv('modified_employee.csv');"
      ],
      "metadata": {
        "id": "NIFiUz5t5tLG",
        "outputId": "9d116a69-3fa3-4609-a8a9-e6acee40a5e5",
        "colab": {
          "base_uri": "https://localhost:8080/"
        }
      },
      "execution_count": 16,
      "outputs": [
        {
          "output_type": "stream",
          "name": "stdout",
          "text": [
            "(5, 10)\n",
            "<class 'pandas.core.frame.DataFrame'>\n",
            "RangeIndex: 5 entries, 0 to 4\n",
            "Data columns (total 10 columns):\n",
            " #   Column              Non-Null Count  Dtype  \n",
            "---  ------              --------------  -----  \n",
            " 0   Employee_ID         5 non-null      int64  \n",
            " 1   Name                5 non-null      object \n",
            " 2   Department          5 non-null      object \n",
            " 3   Age                 5 non-null      int64  \n",
            " 4   Salary              5 non-null      int64  \n",
            " 5   Year_Of_Experience  5 non-null      int64  \n",
            " 6   Joining_Date        5 non-null      object \n",
            " 7   Gender              5 non-null      object \n",
            " 8   Bonus               5 non-null      int64  \n",
            " 9   Rating              5 non-null      float64\n",
            "dtypes: float64(1), int64(5), object(4)\n",
            "memory usage: 532.0+ bytes\n",
            "None\n",
            "       Employee_ID        Age       Salary  Year_Of_Experience   Bonus  \\\n",
            "count     5.000000   5.000000      5.00000            5.000000     5.0   \n",
            "mean    103.000000  34.000000  60000.00000            7.400000  5500.0   \n",
            "std       1.581139   5.612486   7905.69415            3.847077  1000.0   \n",
            "min     101.000000  28.000000  50000.00000            3.000000  4500.0   \n",
            "25%     102.000000  29.000000  55000.00000            4.000000  5000.0   \n",
            "50%     103.000000  34.000000  60000.00000            8.000000  5000.0   \n",
            "75%     104.000000  38.000000  65000.00000           10.000000  6000.0   \n",
            "max     105.000000  41.000000  70000.00000           12.000000  7000.0   \n",
            "\n",
            "         Rating  \n",
            "count  5.000000  \n",
            "mean   4.100000  \n",
            "std    0.494975  \n",
            "min    3.500000  \n",
            "25%    3.800000  \n",
            "50%    4.000000  \n",
            "75%    4.500000  \n",
            "max    4.700000  \n",
            "   Employee_ID     Name Department  Age  Salary  Year_Of_Experience  \\\n",
            "0          101    Alice         HR   29   50000                   4   \n",
            "1          102      Bob         IT   34   70000                   8   \n",
            "2          103  Charlie         IT   41   65000                  10   \n",
            "3          104    Diana  Marketing   28   55000                   3   \n",
            "4          105   Edward      Sales   38   60000                  12   \n",
            "\n",
            "  Joining_Date  Gender  Bonus  Rating  \n",
            "0   2020-03-15  Female   5000     4.5  \n",
            "1   2017-07-19    Male   7000     4.0  \n",
            "2   2013-06-01    Male   6000     3.8  \n",
            "3   2021-02-10  Female   4500     4.7  \n",
            "4   2010-11-25    Male   5000     3.5  \n",
            "   Employee_ID     Name Department  Age  Salary  Year_Of_Experience  \\\n",
            "2          103  Charlie         IT   41   65000                  10   \n",
            "3          104    Diana  Marketing   28   55000                   3   \n",
            "4          105   Edward      Sales   38   60000                  12   \n",
            "\n",
            "  Joining_Date  Gender  Bonus  Rating  \n",
            "2   2013-06-01    Male   6000     3.8  \n",
            "3   2021-02-10  Female   4500     4.7  \n",
            "4   2010-11-25    Male   5000     3.5  \n",
            "60000.0\n",
            "27500\n",
            "28\n",
            "4.7\n",
            "   Employee_ID     Name Department  Age  Salary  Year_Of_Experience  \\\n",
            "1          102      Bob         IT   34   70000                   8   \n",
            "2          103  Charlie         IT   41   65000                  10   \n",
            "4          105   Edward      Sales   38   60000                  12   \n",
            "3          104    Diana  Marketing   28   55000                   3   \n",
            "0          101    Alice         HR   29   50000                   4   \n",
            "\n",
            "  Joining_Date  Gender  Bonus  Rating  \n",
            "1   2017-07-19    Male   7000     4.0  \n",
            "2   2013-06-01    Male   6000     3.8  \n",
            "4   2010-11-25    Male   5000     3.5  \n",
            "3   2021-02-10  Female   4500     4.7  \n",
            "0   2020-03-15  Female   5000     4.5  \n",
            "   Employee_ID     Name Department  Age  Salary  Year_Of_Experience  \\\n",
            "0          101    Alice         HR   29   50000                   4   \n",
            "1          102      Bob         IT   34   70000                   8   \n",
            "2          103  Charlie         IT   41   65000                  10   \n",
            "3          104    Diana  Marketing   28   55000                   3   \n",
            "4          105   Edward      Sales   38   60000                  12   \n",
            "\n",
            "  Joining_Date  Gender  Bonus  Rating Performance  \n",
            "0   2020-03-15  Female   5000     4.5   Excellent  \n",
            "1   2017-07-19    Male   7000     4.0        Good  \n",
            "2   2013-06-01    Male   6000     3.8     Average  \n",
            "3   2021-02-10  Female   4500     4.7   Excellent  \n",
            "4   2010-11-25    Male   5000     3.5     Average  \n",
            "    ID     Name Department  Age  Salary  Year_Of_Experience Joining_Date  \\\n",
            "1  102      Bob         IT   34   70000                   8   2017-07-19   \n",
            "2  103  Charlie         IT   41   65000                  10   2013-06-01   \n",
            "4  105   Edward      Sales   38   60000                  12   2010-11-25   \n",
            "\n",
            "  Gender  Bonus  Rating Performance  \n",
            "1   Male   7000     4.0        Good  \n",
            "2   Male   6000     3.8     Average  \n",
            "4   Male   5000     3.5     Average  \n",
            "    ID     Name Department  Age  Salary  Year_Of_Experience Joining_Date  \\\n",
            "1  102      Bob         IT   34   70000                   8   2017-07-19   \n",
            "2  103  Charlie         IT   41   65000                  10   2013-06-01   \n",
            "\n",
            "  Gender  Bonus  Rating Performance  \n",
            "1   Male   7000     4.0        Good  \n",
            "2   Male   6000     3.8     Average  \n",
            "    ID     Name Department  Age  Salary  Year_Of_Experience Joining_Date  \\\n",
            "0  101    Alice         HR   29   50000                   4   2020-03-15   \n",
            "1  102      Bob         IT   34   70000                   8   2017-07-19   \n",
            "2  103  Charlie         IT   41   65000                  10   2013-06-01   \n",
            "3  104    Diana  Marketing   28   55000                   3   2021-02-10   \n",
            "4  105   Edward      Sales   38   60000                  12   2010-11-25   \n",
            "\n",
            "   Gender  Bonus  Rating Performance     Tax  \n",
            "0  Female   5000     4.5   Excellent  5000.0  \n",
            "1    Male   7000     4.0        Good  7000.0  \n",
            "2    Male   6000     3.8     Average  6500.0  \n",
            "3  Female   4500     4.7   Excellent  5500.0  \n",
            "4    Male   5000     3.5     Average  6000.0  \n"
          ]
        }
      ]
    }
  ]
}