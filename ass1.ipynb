{
  "cells": [
    {
      "cell_type": "markdown",
      "metadata": {
        "id": "view-in-github",
        "colab_type": "text"
      },
      "source": [
        "<a href=\"https://colab.research.google.com/github/ruhaan0001/CognitiveComputing/blob/main/ass1.ipynb\" target=\"_parent\"><img src=\"https://colab.research.google.com/assets/colab-badge.svg\" alt=\"Open In Colab\"/></a>"
      ]
    },
    {
      "cell_type": "markdown",
      "source": [
        "Assingment 1.1: WAP to print your name three times"
      ],
      "metadata": {
        "id": "gSMOxSWNleEh"
      },
      "id": "gSMOxSWNleEh"
    },
    {
      "cell_type": "code",
      "execution_count": 1,
      "id": "ea872320-72e5-4b39-9fc9-640022a1558a",
      "metadata": {
        "colab": {
          "base_uri": "https://localhost:8080/",
          "height": 0
        },
        "id": "ea872320-72e5-4b39-9fc9-640022a1558a",
        "outputId": "b8a2bf38-79cc-4fb7-920c-26b25bb3be8c"
      },
      "outputs": [
        {
          "output_type": "stream",
          "name": "stdout",
          "text": [
            "Ruhaan Ruhaan Ruhaan \n"
          ]
        }
      ],
      "source": [
        "print(3* \"Ruhaan \")"
      ]
    },
    {
      "cell_type": "markdown",
      "source": [
        "Assingment 2.1: WAP to add three numbers and print the result."
      ],
      "metadata": {
        "id": "3qWHfo4llugI"
      },
      "id": "3qWHfo4llugI"
    },
    {
      "cell_type": "code",
      "execution_count": 2,
      "id": "6b1be7e1-6e0b-42c0-a1d7-064cbcce0d16",
      "metadata": {
        "jupyter": {
          "source_hidden": true
        },
        "colab": {
          "base_uri": "https://localhost:8080/",
          "height": 0
        },
        "id": "6b1be7e1-6e0b-42c0-a1d7-064cbcce0d16",
        "outputId": "6b6ba66f-c345-4585-86e8-76cab0e3704e"
      },
      "outputs": [
        {
          "output_type": "stream",
          "name": "stdout",
          "text": [
            "The sum of the three numbers is: 60\n"
          ]
        }
      ],
      "source": [
        "num1 = 10\n",
        "num2 = 20\n",
        "num3 = 30\n",
        "result = num1 + num2 + num3\n",
        "print(\"The sum of the three numbers is:\", result)"
      ]
    },
    {
      "cell_type": "markdown",
      "source": [
        "Assingment 2.2: WAP to concatinate three strings and print the result."
      ],
      "metadata": {
        "id": "Hpy6OB6bl5Iw"
      },
      "id": "Hpy6OB6bl5Iw"
    },
    {
      "cell_type": "code",
      "execution_count": 4,
      "id": "eeea3494-1df6-4673-b54a-7ab1d15f3c47",
      "metadata": {
        "colab": {
          "base_uri": "https://localhost:8080/",
          "height": 0
        },
        "id": "eeea3494-1df6-4673-b54a-7ab1d15f3c47",
        "outputId": "24d38cb4-4086-44cc-c1fd-a15a762d4228"
      },
      "outputs": [
        {
          "output_type": "stream",
          "name": "stdout",
          "text": [
            "The concatenated string is: Hello World Ruhaan\n"
          ]
        }
      ],
      "source": [
        "str1 = \"Hello\"\n",
        "str2 = \"World\"\n",
        "str3 = \"Ruhaan\"\n",
        "result = str1 + \" \" + str2 + \" \" + str3\n",
        "print(\"The concatenated string is:\", result)"
      ]
    },
    {
      "cell_type": "markdown",
      "source": [
        "Assingment 4.1: WAP to print the table of 7, 9."
      ],
      "metadata": {
        "id": "EUuA-nvQmGWn"
      },
      "id": "EUuA-nvQmGWn"
    },
    {
      "cell_type": "code",
      "execution_count": 5,
      "id": "6c943143-0d84-4e7d-a9d2-bf5d67d9b30a",
      "metadata": {
        "colab": {
          "base_uri": "https://localhost:8080/",
          "height": 0
        },
        "id": "6c943143-0d84-4e7d-a9d2-bf5d67d9b30a",
        "outputId": "22ca8b05-4dd8-49df-95ca-4247ae834006"
      },
      "outputs": [
        {
          "output_type": "stream",
          "name": "stdout",
          "text": [
            "Table of 7:\n",
            "7 x 1 = 7\n",
            "7 x 2 = 14\n",
            "7 x 3 = 21\n",
            "7 x 4 = 28\n",
            "7 x 5 = 35\n",
            "7 x 6 = 42\n",
            "7 x 7 = 49\n",
            "7 x 8 = 56\n",
            "7 x 9 = 63\n",
            "7 x 10 = 70\n",
            "\n",
            "Table of 9:\n",
            "9 x 1 = 9\n",
            "9 x 2 = 18\n",
            "9 x 3 = 27\n",
            "9 x 4 = 36\n",
            "9 x 5 = 45\n",
            "9 x 6 = 54\n",
            "9 x 7 = 63\n",
            "9 x 8 = 72\n",
            "9 x 9 = 81\n",
            "9 x 10 = 90\n"
          ]
        }
      ],
      "source": [
        "print(\"Table of 7:\")\n",
        "for i in range(1, 11):\n",
        "    print(f\"7 x {i} = {7 * i}\")\n",
        "\n",
        "print(\"\\nTable of 9:\")\n",
        "for i in range(1, 11):\n",
        "    print(f\"9 x {i} = {9 * i}\")"
      ]
    },
    {
      "cell_type": "markdown",
      "source": [
        "Assingment 4.2: WAP to print the table of n and n is given by user."
      ],
      "metadata": {
        "id": "sARkF8HbmKf_"
      },
      "id": "sARkF8HbmKf_"
    },
    {
      "cell_type": "code",
      "execution_count": 6,
      "id": "94603056-365e-4411-a269-ee39add301ec",
      "metadata": {
        "colab": {
          "base_uri": "https://localhost:8080/",
          "height": 0
        },
        "id": "94603056-365e-4411-a269-ee39add301ec",
        "outputId": "66de20bf-85da-40e7-c6d0-c0364aaf058e"
      },
      "outputs": [
        {
          "output_type": "stream",
          "name": "stdout",
          "text": [
            "Enter a number to print its table: 5\n",
            "Table of 5:\n",
            "5 x 1 = 5\n",
            "5 x 2 = 10\n",
            "5 x 3 = 15\n",
            "5 x 4 = 20\n",
            "5 x 5 = 25\n",
            "5 x 6 = 30\n",
            "5 x 7 = 35\n",
            "5 x 8 = 40\n",
            "5 x 9 = 45\n",
            "5 x 10 = 50\n"
          ]
        }
      ],
      "source": [
        "n = int(input(\"Enter a number to print its table: \"))\n",
        "print(f\"Table of {n}:\")\n",
        "for i in range(1, 11):\n",
        "    print(f\"{n} x {i} = {n * i}\")"
      ]
    },
    {
      "cell_type": "markdown",
      "source": [
        "Assingment 4.3: WAP to add all the numbers from 1 to n and n is given by user."
      ],
      "metadata": {
        "id": "s6N7VytSmVs_"
      },
      "id": "s6N7VytSmVs_"
    },
    {
      "cell_type": "code",
      "execution_count": 7,
      "id": "e721b29f-7f4a-42d5-b3a9-f7b699f81524",
      "metadata": {
        "colab": {
          "base_uri": "https://localhost:8080/",
          "height": 0
        },
        "id": "e721b29f-7f4a-42d5-b3a9-f7b699f81524",
        "outputId": "a13fd23b-9be9-42fb-9e28-d20e3adbc5e2"
      },
      "outputs": [
        {
          "output_type": "stream",
          "name": "stdout",
          "text": [
            "Enter a number: 7\n",
            "The sum of all numbers from 1 to 7 is: 28\n"
          ]
        }
      ],
      "source": [
        "n = int(input(\"Enter a number: \"))\n",
        "total = sum(range(1, n + 1))\n",
        "print(f\"The sum of all numbers from 1 to {n} is: {total}\")"
      ]
    },
    {
      "cell_type": "markdown",
      "source": [
        "Assingment 5.1: WAP to find max amoung three numbers and input from user. [Try max() function]"
      ],
      "metadata": {
        "id": "ufm9bV9XmcBP"
      },
      "id": "ufm9bV9XmcBP"
    },
    {
      "cell_type": "code",
      "execution_count": 8,
      "id": "77bbb248-04e1-4666-bb6d-c5d7c98b880c",
      "metadata": {
        "colab": {
          "base_uri": "https://localhost:8080/",
          "height": 0
        },
        "id": "77bbb248-04e1-4666-bb6d-c5d7c98b880c",
        "outputId": "2acdf773-9788-4511-f6da-ce03b2077b32"
      },
      "outputs": [
        {
          "output_type": "stream",
          "name": "stdout",
          "text": [
            "Enter the first number: 3\n",
            "Enter the second number: 4\n",
            "Enter the third number: 5\n",
            "The maximum among the three numbers is: 5.0\n"
          ]
        }
      ],
      "source": [
        "num1 = float(input(\"Enter the first number: \"))\n",
        "num2 = float(input(\"Enter the second number: \"))\n",
        "num3 = float(input(\"Enter the third number: \"))\n",
        "\n",
        "maximum = max(num1, num2, num3)\n",
        "print(f\"The maximum among the three numbers is: {maximum}\")"
      ]
    },
    {
      "cell_type": "markdown",
      "source": [
        "Assingment 5.2: WAP to add all numbers divisible by 7 and 9 from 1 to n and n is given by the user."
      ],
      "metadata": {
        "id": "MMrOHHFOmwIY"
      },
      "id": "MMrOHHFOmwIY"
    },
    {
      "cell_type": "code",
      "execution_count": 10,
      "id": "eb15d431-c6a9-43cf-a09d-d2c2212a8013",
      "metadata": {
        "colab": {
          "base_uri": "https://localhost:8080/",
          "height": 0
        },
        "id": "eb15d431-c6a9-43cf-a09d-d2c2212a8013",
        "outputId": "5ef36bb2-7c60-4eab-d1a0-1a8996f953f9"
      },
      "outputs": [
        {
          "output_type": "stream",
          "name": "stdout",
          "text": [
            "Enter a number: 63\n",
            "The sum of all numbers divisible by 7 and 9 from 1 to 63 is: 63\n"
          ]
        }
      ],
      "source": [
        "n = int(input(\"Enter a number: \"))\n",
        "total = sum(i for i in range(1, n + 1) if i % 7 == 0 and i % 9 == 0)\n",
        "print(f\"The sum of all numbers divisible by 7 and 9 from 1 to {n} is: {total}\")"
      ]
    },
    {
      "cell_type": "markdown",
      "source": [
        "Assingment 5.3: WAP to add all prime numbers from 1 to n and n is given by the user."
      ],
      "metadata": {
        "id": "rmzS4Ullm91g"
      },
      "id": "rmzS4Ullm91g"
    },
    {
      "cell_type": "code",
      "execution_count": 11,
      "id": "fbe2c29a-fa57-409f-ab8b-e91e0c8b464b",
      "metadata": {
        "colab": {
          "base_uri": "https://localhost:8080/",
          "height": 0
        },
        "id": "fbe2c29a-fa57-409f-ab8b-e91e0c8b464b",
        "outputId": "f1fc88c4-647d-4e24-ca2e-2d991e7d6b0d"
      },
      "outputs": [
        {
          "output_type": "stream",
          "name": "stdout",
          "text": [
            "Enter a number: 71\n",
            "The sum of all prime numbers from 1 to 71 is: 639\n"
          ]
        }
      ],
      "source": [
        "n = int(input(\"Enter a number: \"))\n",
        "\n",
        "def is_prime(num):\n",
        "    if num < 2:\n",
        "        return False\n",
        "    for i in range(2, int(num**0.5) + 1):\n",
        "        if num % i == 0:\n",
        "            return False\n",
        "    return True\n",
        "\n",
        "total = sum(i for i in range(1, n + 1) if is_prime(i))\n",
        "print(f\"The sum of all prime numbers from 1 to {n} is: {total}\")"
      ]
    },
    {
      "cell_type": "markdown",
      "source": [
        "Assingment 6.1: WAP using function that add all odd numbers from 1 to n, n is given by the user."
      ],
      "metadata": {
        "id": "hFWK4sxonCHn"
      },
      "id": "hFWK4sxonCHn"
    },
    {
      "cell_type": "code",
      "execution_count": 12,
      "id": "ec424212-5dbd-43b7-9c12-b525644d8fe8",
      "metadata": {
        "colab": {
          "base_uri": "https://localhost:8080/",
          "height": 0
        },
        "id": "ec424212-5dbd-43b7-9c12-b525644d8fe8",
        "outputId": "ccda8159-df25-4fe1-e84f-e49cef96554b"
      },
      "outputs": [
        {
          "output_type": "stream",
          "name": "stdout",
          "text": [
            "Enter a number: 31\n",
            "The sum of all odd numbers from 1 to 31 is: 256\n"
          ]
        }
      ],
      "source": [
        "def sum_odd_numbers(n):\n",
        "    total = sum(i for i in range(1, n + 1) if i % 2 != 0)\n",
        "    return total\n",
        "\n",
        "n = int(input(\"Enter a number: \"))\n",
        "result = sum_odd_numbers(n)\n",
        "print(f\"The sum of all odd numbers from 1 to {n} is: {result}\")"
      ]
    },
    {
      "cell_type": "markdown",
      "source": [
        "Assingment 6.2: WAP using function that add all prime numbers from 1 to n, n given by the user."
      ],
      "metadata": {
        "id": "TJSb-p7gnLFX"
      },
      "id": "TJSb-p7gnLFX"
    },
    {
      "cell_type": "code",
      "execution_count": 14,
      "id": "d7a8323a-68ac-44f9-a34a-81efdf80538f",
      "metadata": {
        "colab": {
          "base_uri": "https://localhost:8080/",
          "height": 0
        },
        "id": "d7a8323a-68ac-44f9-a34a-81efdf80538f",
        "outputId": "cfe64657-0cce-4799-d1ea-529f69bc2951"
      },
      "outputs": [
        {
          "output_type": "stream",
          "name": "stdout",
          "text": [
            "Enter a number: 65\n",
            "The sum of all prime numbers from 1 to 65 is: 501\n"
          ]
        }
      ],
      "source": [
        "def is_prime(num):\n",
        "    if num < 2:\n",
        "        return False\n",
        "    for i in range(2, int(num**0.5) + 1):\n",
        "        if num % i == 0:\n",
        "            return False\n",
        "    return True\n",
        "\n",
        "def sum_prime_numbers(n):\n",
        "    total = sum(i for i in range(1, n + 1) if is_prime(i))\n",
        "    return total\n",
        "\n",
        "n = int(input(\"Enter a number: \"))\n",
        "result = sum_prime_numbers(n)\n",
        "print(f\"The sum of all prime numbers from 1 to {n} is: {result}\")"
      ]
    }
  ],
  "metadata": {
    "kernelspec": {
      "display_name": "",
      "name": ""
    },
    "language_info": {
      "name": ""
    },
    "colab": {
      "provenance": [],
      "include_colab_link": true
    }
  },
  "nbformat": 4,
  "nbformat_minor": 5
}