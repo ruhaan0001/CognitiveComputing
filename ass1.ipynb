{
 "cells": [
  {
   "cell_type": "code",
   "execution_count": null,
   "id": "ea872320-72e5-4b39-9fc9-640022a1558a",
   "metadata": {},
   "outputs": [],
   "source": [
    "print(3* \"Ruhaan \")"
   ]
  },
  {
   "cell_type": "code",
   "execution_count": null,
   "id": "6b1be7e1-6e0b-42c0-a1d7-064cbcce0d16",
   "metadata": {
    "jupyter": {
     "source_hidden": true
    }
   },
   "outputs": [],
   "source": [
    "num1 = 10\n",
    "num2 = 20\n",
    "num3 = 30\n",
    "result = num1 + num2 + num3\n",
    "print(\"The sum of the three numbers is:\", result)"
   ]
  },
  {
   "cell_type": "code",
   "execution_count": null,
   "id": "eeea3494-1df6-4673-b54a-7ab1d15f3c47",
   "metadata": {},
   "outputs": [],
   "source": [
    "str1 = \"Hello\"\n",
    "str2 = \"World\"\n",
    "str3 = \"Python\"\n",
    "result = str1 + \" \" + str2 + \" \" + str3\n",
    "print(\"The concatenated string is:\", result)"
   ]
  },
  {
   "cell_type": "code",
   "execution_count": null,
   "id": "6c943143-0d84-4e7d-a9d2-bf5d67d9b30a",
   "metadata": {},
   "outputs": [],
   "source": [
    "print(\"Table of 7:\")\n",
    "for i in range(1, 11):\n",
    "    print(f\"7 x {i} = {7 * i}\")\n",
    "\n",
    "print(\"\\nTable of 9:\")\n",
    "for i in range(1, 11):\n",
    "    print(f\"9 x {i} = {9 * i}\")"
   ]
  },
  {
   "cell_type": "code",
   "execution_count": null,
   "id": "94603056-365e-4411-a269-ee39add301ec",
   "metadata": {},
   "outputs": [],
   "source": [
    "n = int(input(\"Enter a number to print its table: \"))\n",
    "print(f\"Table of {n}:\")\n",
    "for i in range(1, 11):\n",
    "    print(f\"{n} x {i} = {n * i}\")"
   ]
  },
  {
   "cell_type": "code",
   "execution_count": null,
   "id": "e721b29f-7f4a-42d5-b3a9-f7b699f81524",
   "metadata": {},
   "outputs": [],
   "source": [
    "n = int(input(\"Enter a number: \"))\n",
    "total = sum(range(1, n + 1))\n",
    "print(f\"The sum of all numbers from 1 to {n} is: {total}\")"
   ]
  },
  {
   "cell_type": "code",
   "execution_count": null,
   "id": "77bbb248-04e1-4666-bb6d-c5d7c98b880c",
   "metadata": {},
   "outputs": [],
   "source": [
    "num1 = float(input(\"Enter the first number: \"))\n",
    "num2 = float(input(\"Enter the second number: \"))\n",
    "num3 = float(input(\"Enter the third number: \"))\n",
    "\n",
    "maximum = max(num1, num2, num3)\n",
    "print(f\"The maximum among the three numbers is: {maximum}\")"
   ]
  },
  {
   "cell_type": "code",
   "execution_count": null,
   "id": "eb15d431-c6a9-43cf-a09d-d2c2212a8013",
   "metadata": {},
   "outputs": [],
   "source": [
    "n = int(input(\"Enter a number: \"))\n",
    "total = sum(i for i in range(1, n + 1) if i % 7 == 0 and i % 9 == 0)\n",
    "print(f\"The sum of all numbers divisible by 7 and 9 from 1 to {n} is: {total}\")"
   ]
  },
  {
   "cell_type": "code",
   "execution_count": null,
   "id": "fbe2c29a-fa57-409f-ab8b-e91e0c8b464b",
   "metadata": {},
   "outputs": [],
   "source": [
    "n = int(input(\"Enter a number: \"))\n",
    "\n",
    "def is_prime(num):\n",
    "    if num < 2:\n",
    "        return False\n",
    "    for i in range(2, int(num**0.5) + 1):\n",
    "        if num % i == 0:\n",
    "            return False\n",
    "    return True\n",
    "\n",
    "total = sum(i for i in range(1, n + 1) if is_prime(i))\n",
    "print(f\"The sum of all prime numbers from 1 to {n} is: {total}\")"
   ]
  },
  {
   "cell_type": "code",
   "execution_count": null,
   "id": "ec424212-5dbd-43b7-9c12-b525644d8fe8",
   "metadata": {},
   "outputs": [],
   "source": [
    "def sum_odd_numbers(n):\n",
    "    total = sum(i for i in range(1, n + 1) if i % 2 != 0)\n",
    "    return total\n",
    "\n",
    "n = int(input(\"Enter a number: \"))\n",
    "result = sum_odd_numbers(n)\n",
    "print(f\"The sum of all odd numbers from 1 to {n} is: {result}\")"
   ]
  },
  {
   "cell_type": "code",
   "execution_count": null,
   "id": "d7a8323a-68ac-44f9-a34a-81efdf80538f",
   "metadata": {},
   "outputs": [],
   "source": [
    "def is_prime(num):\n",
    "    if num < 2:\n",
    "        return False\n",
    "    for i in range(2, int(num**0.5) + 1):\n",
    "        if num % i == 0:\n",
    "            return False\n",
    "    return True\n",
    "\n",
    "def sum_prime_numbers(n):\n",
    "    total = sum(i for i in range(1, n + 1) if is_prime(i))\n",
    "    return total\n",
    "\n",
    "n = int(input(\"Enter a number: \"))\n",
    "result = sum_prime_numbers(n)\n",
    "print(f\"The sum of all prime numbers from 1 to {n} is: {result}\")"
   ]
  }
 ],
 "metadata": {
  "kernelspec": {
   "display_name": "",
   "name": ""
  },
  "language_info": {
   "name": ""
  }
 },
 "nbformat": 4,
 "nbformat_minor": 5
}
